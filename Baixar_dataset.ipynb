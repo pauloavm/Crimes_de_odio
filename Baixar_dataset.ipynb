{
 "cells": [
  {
   "cell_type": "code",
   "execution_count": null,
   "id": "3de722e1",
   "metadata": {},
   "outputs": [],
   "source": [
    "pip install kagglehub"
   ]
  },
  {
   "cell_type": "code",
   "execution_count": 3,
   "id": "4508622b",
   "metadata": {},
   "outputs": [
    {
     "name": "stdout",
     "output_type": "stream",
     "text": [
      "Caminho para os arquivos do conjunto de dados: C:\\Users\\paulo\\.cache\\kagglehub\\datasets\\sonawanelalitsunil\\hate-crimes-2017-2025\\versions\\1\n",
      "Movendo arquivos para: c:\\Users\\paulo\\OneDrive\\Works\\Analise_Dados\\Estudos_para_portifólio\\Crimes_de_odio\n",
      "Arquivo 'Hate_Crimes_2017-2025.csv' movido com sucesso.\n",
      "\n",
      "Processo concluído!\n"
     ]
    }
   ],
   "source": [
    "import kagglehub\n",
    "import os\n",
    "import shutil\n",
    "\n",
    "# Baixa a versão mais recente do conjunto de dados\n",
    "# A função retorna o caminho para a pasta onde os arquivos foram baixados.\n",
    "path = kagglehub.dataset_download(\"sonawanelalitsunil/hate-crimes-2017-2025\")\n",
    "\n",
    "print(f\"Caminho para os arquivos do conjunto de dados: {path}\")\n",
    "\n",
    "# Obtém o diretório onde o script está sendo executado.\n",
    "diretorio_atual = os.getcwd()\n",
    "\n",
    "print(f\"Movendo arquivos para: {diretorio_atual}\")\n",
    "\n",
    "# Lista todos os arquivos e pastas dentro do diretório de download.\n",
    "for nome_arquivo in os.listdir(path):\n",
    "    # Constrói o caminho completo do arquivo de origem.\n",
    "    caminho_origem = os.path.join(path, nome_arquivo)\n",
    "    \n",
    "    # Constrói o caminho completo do arquivo de destino.\n",
    "    caminho_destino = os.path.join(diretorio_atual, nome_arquivo)\n",
    "    \n",
    "    # Move o arquivo ou a pasta.\n",
    "    shutil.move(caminho_origem, caminho_destino)\n",
    "    print(f\"Arquivo '{nome_arquivo}' movido com sucesso.\")\n",
    "\n",
    "print(\"\\nProcesso concluído!\")\n"
   ]
  }
 ],
 "metadata": {
  "kernelspec": {
   "display_name": "venv",
   "language": "python",
   "name": "python3"
  },
  "language_info": {
   "codemirror_mode": {
    "name": "ipython",
    "version": 3
   },
   "file_extension": ".py",
   "mimetype": "text/x-python",
   "name": "python",
   "nbconvert_exporter": "python",
   "pygments_lexer": "ipython3",
   "version": "3.13.7"
  }
 },
 "nbformat": 4,
 "nbformat_minor": 5
}
