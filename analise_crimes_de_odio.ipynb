{
 "cells": [
  {
   "cell_type": "markdown",
   "id": "c53db71e",
   "metadata": {},
   "source": [
    "### Estudo com Análise de Crimes de Ódio (2017-2025)\n",
    "\n",
    "Objetivo da Análise\n",
    "O objetivo é explorar o conjunto de dados sobre crimes de ódio para entender padrões, tendências e as principais características desses incidentes.\n",
    "\n",
    "Perguntas a Serem Respondidas\n",
    "    Antes de começar, vamos definir algumas perguntas que guiarão nossa análise:\n",
    "\n",
    "Tendência Temporal: \n",
    "    Como o número de crimes de ódio evoluiu ao longo dos anos presentes no dataset?\n",
    "\n",
    "Distribuição Geográfica: \n",
    "    Quais estados apresentam os maiores números de registros de crimes de ódio?\n",
    "\n",
    "Motivações Principais:\n",
    "    Quais são as motivações de preconceito (viés) mais comuns por trás desses crimes?\n",
    "\n",
    "Tipos de Ofensa:\n",
    "    Quais são os tipos de ofensa (crime) mais frequentemente reportados?\n",
    "\n",
    "Relação Agência x Crimes:\n",
    "    Existe alguma diferença significativa no número de crimes reportados por tipo de agência (ex: polícia da cidade, xerife do condado)?"
   ]
  },
  {
   "cell_type": "markdown",
   "id": "7886aaa0",
   "metadata": {},
   "source": [
    "#### Configuração do Ambiente e Carregamento dos Dados"
   ]
  },
  {
   "cell_type": "code",
   "execution_count": null,
   "id": "b480a869",
   "metadata": {},
   "outputs": [],
   "source": [
    "# Importando as bibliotecas necessárias\n",
    "import pandas as pd\n",
    "import matplotlib.pyplot as plt\n",
    "import seaborn as sns\n",
    "\n",
    "# Configurando o estilo dos gráficos para melhor visualização\n",
    "sns.set_style(\"whitegrid\")\n",
    "plt.rcParams['figure.figsize'] = (12, 6)\n",
    "\n",
    "# Carregando o dataset\n",
    "# Certifique-se de que o arquivo 'Hate_Crimes_2017-2025.csv' está na mesma pasta do seu notebook\n",
    "# ou forneça o caminho completo para o arquivo.\n",
    "try:\n",
    "    df = pd.read_csv('Hate_Crimes_2017-2025.csv')\n",
    "    print(\"Arquivo carregado com sucesso!\")\n",
    "except FileNotFoundError:\n",
    "    print(\"Erro: Arquivo não encontrado. Verifique o nome e o caminho do arquivo.\")"
   ]
  },
  {
   "cell_type": "markdown",
   "id": "2ef7bb1f",
   "metadata": {},
   "source": [
    "#### Análise Exploratória de Dados (EDA)"
   ]
  },
  {
   "cell_type": "code",
   "execution_count": null,
   "id": "73d43820",
   "metadata": {},
   "outputs": [],
   "source": [
    "# 1. Visualizar as primeiras linhas do DataFrame\n",
    "print(\"Amostra dos dados:\")\n",
    "display(df.head())"
   ]
  },
  {
   "cell_type": "code",
   "execution_count": null,
   "id": "9226d291",
   "metadata": {},
   "outputs": [],
   "source": [
    "# 2. Obter informações sobre as colunas, tipos de dados e valores nulos\n",
    "print(\"\\nInformações do DataFrame:\")\n",
    "df.info()"
   ]
  },
  {
   "cell_type": "code",
   "execution_count": null,
   "id": "035922ea",
   "metadata": {},
   "outputs": [],
   "source": [
    "# 3. Gerar estatísticas descritivas para as colunas numéricas\n",
    "print(\"\\nEstatísticas Descritivas:\")\n",
    "display(df.describe())"
   ]
  },
  {
   "cell_type": "code",
   "execution_count": null,
   "id": "9ced4d96",
   "metadata": {},
   "outputs": [],
   "source": [
    "# 4. Verificar a contagem de valores nulos em cada coluna\n",
    "print(\"\\nContagem de valores nulos por coluna:\")\n",
    "print(df.isnull().sum())"
   ]
  },
  {
   "cell_type": "code",
   "execution_count": null,
   "id": "4cebe877",
   "metadata": {},
   "outputs": [],
   "source": [
    "# 5. Listar os nomes das colunas para facilitar a referência\n",
    "print(\"\\nNomes das colunas:\")\n",
    "print(df.columns)"
   ]
  },
  {
   "cell_type": "markdown",
   "id": "fb950e7d",
   "metadata": {},
   "source": [
    "#### Análises Gráficas para Responder às Perguntas"
   ]
  },
  {
   "cell_type": "markdown",
   "id": "ef4db339",
   "metadata": {},
   "source": [
    "Pergunta 1: Como o número de crimes de ódio evoluiu ao longo dos anos?"
   ]
  },
  {
   "cell_type": "code",
   "execution_count": null,
   "id": "283bbfe3",
   "metadata": {},
   "outputs": [],
   "source": [
    "# 1. Converter a coluna de data para o formato datetime\n",
    "df['Date of Incident'] = pd.to_datetime(df['Date of Incident'])\n",
    "\n",
    "# 2. Extrair o ano para uma nova coluna 'Year'\n",
    "df['Year'] = df['Date of Incident'].dt.year\n",
    "\n",
    "# 3. Agrupar os dados pela nova coluna 'Year'\n",
    "crimes_por_ano = df.groupby('Year').size().reset_index(name='Total_Incidentes')\n",
    "\n",
    "# Criando o gráfico de linhas\n",
    "plt.figure(figsize=(12, 6))\n",
    "sns.lineplot(data=crimes_por_ano, x='Year', y='Total_Incidentes', marker='o')\n",
    "\n",
    "plt.title('Evolução do Número de Crimes de Ódio por Ano', fontsize=16)\n",
    "plt.xlabel('Ano')\n",
    "plt.ylabel('Número Total de Incidentes')\n",
    "plt.xticks(crimes_por_ano['Year'])\n",
    "plt.grid(True)\n",
    "plt.show()"
   ]
  },
  {
   "cell_type": "markdown",
   "id": "e0c3c71e",
   "metadata": {},
   "source": [
    "Pergunta 2: Quais estados apresentam os maiores números de registros?"
   ]
  },
  {
   "cell_type": "code",
   "execution_count": null,
   "id": "bbd1dce3",
   "metadata": {},
   "outputs": [],
   "source": [
    "# Contando os incidentes por Distrito do Conselho\n",
    "crimes_por_distrito = df['Council District'].value_counts().nlargest(15).reset_index()\n",
    "crimes_por_distrito.columns = ['Distrito', 'Total_Incidentes']\n",
    "\n",
    "# Criando o gráfico de barras\n",
    "plt.figure(figsize=(15, 8))\n",
    "sns.barplot(data=crimes_por_distrito, x='Total_Incidentes', y='Distrito', palette='viridis', orient='h')\n",
    "\n",
    "plt.title('Top 15 Distritos por Número de Crimes de Ódio Reportados', fontsize=16)\n",
    "plt.xlabel('Número Total de Incidentes')\n",
    "plt.ylabel('Distrito do Conselho')\n",
    "plt.show()"
   ]
  },
  {
   "cell_type": "markdown",
   "id": "f1f4c21e",
   "metadata": {},
   "source": [
    "Pergunta 3: Quais são as motivações de preconceito (viés) mais comuns?"
   ]
  },
  {
   "cell_type": "code",
   "execution_count": null,
   "id": "8850f300",
   "metadata": {},
   "outputs": [],
   "source": [
    "# Contando os incidentes por tipo de motivação (usando a coluna 'Bias')\n",
    "motivacao = df['Bias'].value_counts().nlargest(10).reset_index()\n",
    "motivacao.columns = ['Motivacao', 'Total_Incidentes']\n",
    "\n",
    "# Criando o gráfico de barras\n",
    "plt.figure(figsize=(12, 8))\n",
    "sns.barplot(data=motivacao, x='Total_Incidentes', y='Motivacao', palette='mako')\n",
    "\n",
    "plt.title('Top 10 Motivações (Viés) para Crimes de Ódio', fontsize=16)\n",
    "plt.xlabel('Número Total de Incidentes')\n",
    "plt.ylabel('Tipo de Motivação')\n",
    "plt.show()"
   ]
  },
  {
   "cell_type": "markdown",
   "id": "10a1ddce",
   "metadata": {},
   "source": [
    "Pergunta 4: Quais são os tipos de ofensa mais frequentemente reportados?"
   ]
  },
  {
   "cell_type": "code",
   "execution_count": null,
   "id": "2d1243c9",
   "metadata": {},
   "outputs": [],
   "source": [
    "# Contando os incidentes por tipo de ofensa (usando a coluna 'Offense(s)')\n",
    "tipo_ofensa = df['Offense(s)'].value_counts().nlargest(10).reset_index()\n",
    "tipo_ofensa.columns = ['Tipo_de_Ofensa', 'Total_Incidentes']\n",
    "\n",
    "# Criando o gráfico de barras\n",
    "plt.figure(figsize=(12, 8))\n",
    "sns.barplot(data=tipo_ofensa, x='Total_Incidentes', y='Tipo_de_Ofensa', palette='rocket')\n",
    "\n",
    "plt.title('Top 10 Tipos de Ofensa em Crimes de Ódio', fontsize=16)\n",
    "plt.xlabel('Número Total de Incidentes')\n",
    "plt.ylabel('Ofensa')\n",
    "plt.show()"
   ]
  },
  {
   "cell_type": "markdown",
   "id": "b1468b4a",
   "metadata": {},
   "source": [
    "Pergunta 5: Existe diferença no número de crimes reportados por tipo de agência?"
   ]
  },
  {
   "cell_type": "code",
   "execution_count": null,
   "id": "37f58e21",
   "metadata": {},
   "outputs": [],
   "source": [
    "# Agrupando por Setor Policial (usando 'APD Sector')\n",
    "crimes_por_setor = df['APD Sector'].value_counts().reset_index()\n",
    "crimes_por_setor.columns = ['Setor_Policial', 'Total_Incidentes']\n",
    "\n",
    "# Criando o gráfico de barras\n",
    "plt.figure(figsize=(14, 7))\n",
    "sns.barplot(data=crimes_por_setor, x='Setor_Policial', y='Total_Incidentes', palette='cubehelix')\n",
    "\n",
    "plt.title('Número de Crimes de Ódio Reportados por Setor Policial', fontsize=16)\n",
    "plt.xlabel('Setor Policial (APD Sector)')\n",
    "plt.ylabel('Número Total de Incidentes')\n",
    "plt.xticks(rotation=45, ha='right')\n",
    "plt.tight_layout()\n",
    "plt.show()"
   ]
  },
  {
   "cell_type": "markdown",
   "id": "22f44014",
   "metadata": {},
   "source": []
  },
  {
   "cell_type": "code",
   "execution_count": null,
   "id": "5ace4b78",
   "metadata": {},
   "outputs": [],
   "source": []
  }
 ],
 "metadata": {
  "kernelspec": {
   "display_name": "venv",
   "language": "python",
   "name": "python3"
  },
  "language_info": {
   "codemirror_mode": {
    "name": "ipython",
    "version": 3
   },
   "file_extension": ".py",
   "mimetype": "text/x-python",
   "name": "python",
   "nbconvert_exporter": "python",
   "pygments_lexer": "ipython3",
   "version": "3.13.7"
  }
 },
 "nbformat": 4,
 "nbformat_minor": 5
}
