{
 "cells": [
  {
   "cell_type": "markdown",
   "id": "c53db71e",
   "metadata": {},
   "source": [
    "## Estudo com Análise de Crimes de Ódio (2017-2025)\n",
    "\n",
    "Objetivo da Análise\n",
    "O objetivo é explorar o conjunto de dados sobre crimes de ódio para entender padrões, tendências e as principais características desses incidentes.\n",
    "\n",
    "Perguntas a Serem Respondidas\n",
    "    Antes de começar, vamos definir algumas perguntas que guiarão nossa análise:\n",
    "\n",
    "Tendência Temporal: \n",
    "    Como o número de crimes de ódio evoluiu ao longo dos anos presentes no dataset?\n",
    "\n",
    "Distribuição Geográfica: \n",
    "    Quais estados apresentam os maiores números de registros de crimes de ódio?\n",
    "\n",
    "Motivações Principais:\n",
    "    Quais são as motivações de preconceito (viés) mais comuns por trás desses crimes?\n",
    "\n",
    "Tipos de Ofensa:\n",
    "    Quais são os tipos de ofensa (crime) mais frequentemente reportados?\n",
    "\n",
    "Relação Agência x Crimes:\n",
    "    Existe alguma diferença significativa no número de crimes reportados por tipo de agência (ex: polícia da cidade, xerife do condado)?"
   ]
  },
  {
   "cell_type": "markdown",
   "id": "7886aaa0",
   "metadata": {},
   "source": [
    "### Configuração do Ambiente e Carregamento dos Dados"
   ]
  },
  {
   "cell_type": "code",
   "execution_count": 2,
   "id": "b480a869",
   "metadata": {},
   "outputs": [
    {
     "name": "stdout",
     "output_type": "stream",
     "text": [
      "Arquivo carregado com sucesso!\n"
     ]
    }
   ],
   "source": [
    "# Importando as bibliotecas necessárias\n",
    "import pandas as pd\n",
    "import matplotlib.pyplot as plt\n",
    "import seaborn as sns\n",
    "\n",
    "# Configurando o estilo dos gráficos para melhor visualização\n",
    "sns.set_style(\"whitegrid\")\n",
    "plt.rcParams['figure.figsize'] = (12, 6)\n",
    "\n",
    "# Carregando o dataset\n",
    "# Certifique-se de que o arquivo 'Hate_Crimes_2017-2025.csv' está na mesma pasta do seu notebook\n",
    "# ou forneça o caminho completo para o arquivo.\n",
    "try:\n",
    "    df = pd.read_csv('Hate_Crimes_2017-2025.csv')\n",
    "    print(\"Arquivo carregado com sucesso!\")\n",
    "except FileNotFoundError:\n",
    "    print(\"Erro: Arquivo não encontrado. Verifique o nome e o caminho do arquivo.\")"
   ]
  },
  {
   "cell_type": "markdown",
   "id": "2ef7bb1f",
   "metadata": {},
   "source": [
    "### Análise Exploratória de Dados (EDA)"
   ]
  },
  {
   "cell_type": "code",
   "execution_count": 3,
   "id": "73d43820",
   "metadata": {},
   "outputs": [
    {
     "name": "stdout",
     "output_type": "stream",
     "text": [
      "Amostra dos dados:\n"
     ]
    },
    {
     "data": {
      "text/html": [
       "<div>\n",
       "<style scoped>\n",
       "    .dataframe tbody tr th:only-of-type {\n",
       "        vertical-align: middle;\n",
       "    }\n",
       "\n",
       "    .dataframe tbody tr th {\n",
       "        vertical-align: top;\n",
       "    }\n",
       "\n",
       "    .dataframe thead th {\n",
       "        text-align: right;\n",
       "    }\n",
       "</style>\n",
       "<table border=\"1\" class=\"dataframe\">\n",
       "  <thead>\n",
       "    <tr style=\"text-align: right;\">\n",
       "      <th></th>\n",
       "      <th>Month</th>\n",
       "      <th>Incident Number</th>\n",
       "      <th>Date of Incident</th>\n",
       "      <th>Day of Week</th>\n",
       "      <th>Number of Victims under 18</th>\n",
       "      <th>Number of Victims over 18</th>\n",
       "      <th>Number of Offenders under 18</th>\n",
       "      <th>Number of Offenders over 18</th>\n",
       "      <th>Race/Ethnicity of Offenders</th>\n",
       "      <th>Offense(s)</th>\n",
       "      <th>Offense Location</th>\n",
       "      <th>Bias</th>\n",
       "      <th>Zip Code</th>\n",
       "      <th>APD Sector</th>\n",
       "      <th>Council District</th>\n",
       "    </tr>\n",
       "  </thead>\n",
       "  <tbody>\n",
       "    <tr>\n",
       "      <th>0</th>\n",
       "      <td>Jan</td>\n",
       "      <td>2017-241137</td>\n",
       "      <td>01/01/2017 12:00:00 AM</td>\n",
       "      <td>Sun</td>\n",
       "      <td>0</td>\n",
       "      <td>1</td>\n",
       "      <td>0</td>\n",
       "      <td>1</td>\n",
       "      <td>White/Not Hispanic</td>\n",
       "      <td>Aggravated Assault</td>\n",
       "      <td>Park/Playground</td>\n",
       "      <td>Anti-Black or African American</td>\n",
       "      <td>78704.0</td>\n",
       "      <td>Henry</td>\n",
       "      <td>9.0</td>\n",
       "    </tr>\n",
       "    <tr>\n",
       "      <th>1</th>\n",
       "      <td>Feb</td>\n",
       "      <td>2017-580344</td>\n",
       "      <td>02/01/2017 12:00:00 AM</td>\n",
       "      <td>Wed</td>\n",
       "      <td>0</td>\n",
       "      <td>1</td>\n",
       "      <td>0</td>\n",
       "      <td>1</td>\n",
       "      <td>Black or African American/Not Hispanic</td>\n",
       "      <td>Aggravated Assault</td>\n",
       "      <td>Highway/Road/Alley/Street/Sidewalk</td>\n",
       "      <td>Anti-White</td>\n",
       "      <td>78702.0</td>\n",
       "      <td>Charlie</td>\n",
       "      <td>1.0</td>\n",
       "    </tr>\n",
       "    <tr>\n",
       "      <th>2</th>\n",
       "      <td>Mar</td>\n",
       "      <td>2017-800291</td>\n",
       "      <td>03/21/2017 12:00:00 AM</td>\n",
       "      <td>Tue</td>\n",
       "      <td>0</td>\n",
       "      <td>0</td>\n",
       "      <td>0</td>\n",
       "      <td>0</td>\n",
       "      <td>Unknown</td>\n",
       "      <td>Destruction</td>\n",
       "      <td>Highway/Road/Alley/Street/Sidewalk</td>\n",
       "      <td>Anti-Jewish</td>\n",
       "      <td>78757.0</td>\n",
       "      <td>Ida</td>\n",
       "      <td>7.0</td>\n",
       "    </tr>\n",
       "    <tr>\n",
       "      <th>3</th>\n",
       "      <td>Apr</td>\n",
       "      <td>2017-1021534</td>\n",
       "      <td>04/12/2017 12:00:00 AM</td>\n",
       "      <td>Wed</td>\n",
       "      <td>0</td>\n",
       "      <td>0</td>\n",
       "      <td>0</td>\n",
       "      <td>0</td>\n",
       "      <td>White/Unknown</td>\n",
       "      <td>Simple Assault</td>\n",
       "      <td>Air/Bus/Train Terminal</td>\n",
       "      <td>Anti-Jewish</td>\n",
       "      <td>78723.0</td>\n",
       "      <td>Ida</td>\n",
       "      <td>1.0</td>\n",
       "    </tr>\n",
       "    <tr>\n",
       "      <th>4</th>\n",
       "      <td>May</td>\n",
       "      <td>2017-1351550</td>\n",
       "      <td>05/15/2017 12:00:00 AM</td>\n",
       "      <td>Mon</td>\n",
       "      <td>1</td>\n",
       "      <td>0</td>\n",
       "      <td>1</td>\n",
       "      <td>2</td>\n",
       "      <td>White/Not Hispanic</td>\n",
       "      <td>Simple Assault</td>\n",
       "      <td>Residence/Home</td>\n",
       "      <td>Anti-Gay (Male)</td>\n",
       "      <td>78750.0</td>\n",
       "      <td>Adam</td>\n",
       "      <td>6.0</td>\n",
       "    </tr>\n",
       "  </tbody>\n",
       "</table>\n",
       "</div>"
      ],
      "text/plain": [
       "  Month Incident Number        Date of Incident Day of Week  \\\n",
       "0   Jan     2017-241137  01/01/2017 12:00:00 AM         Sun   \n",
       "1   Feb     2017-580344  02/01/2017 12:00:00 AM         Wed   \n",
       "2   Mar     2017-800291  03/21/2017 12:00:00 AM         Tue   \n",
       "3   Apr    2017-1021534  04/12/2017 12:00:00 AM         Wed   \n",
       "4   May    2017-1351550  05/15/2017 12:00:00 AM         Mon   \n",
       "\n",
       "  Number of Victims under 18 Number of Victims over 18  \\\n",
       "0                          0                         1   \n",
       "1                          0                         1   \n",
       "2                          0                         0   \n",
       "3                          0                         0   \n",
       "4                          1                         0   \n",
       "\n",
       "  Number of Offenders under 18 Number of Offenders over 18  \\\n",
       "0                            0                           1   \n",
       "1                            0                           1   \n",
       "2                            0                           0   \n",
       "3                            0                           0   \n",
       "4                            1                           2   \n",
       "\n",
       "              Race/Ethnicity of Offenders          Offense(s)  \\\n",
       "0                      White/Not Hispanic  Aggravated Assault   \n",
       "1  Black or African American/Not Hispanic  Aggravated Assault   \n",
       "2                                 Unknown         Destruction   \n",
       "3                           White/Unknown      Simple Assault   \n",
       "4                      White/Not Hispanic      Simple Assault   \n",
       "\n",
       "                     Offense Location                            Bias  \\\n",
       "0                     Park/Playground  Anti-Black or African American   \n",
       "1  Highway/Road/Alley/Street/Sidewalk                      Anti-White   \n",
       "2  Highway/Road/Alley/Street/Sidewalk                     Anti-Jewish   \n",
       "3              Air/Bus/Train Terminal                     Anti-Jewish   \n",
       "4                      Residence/Home                 Anti-Gay (Male)   \n",
       "\n",
       "   Zip Code APD Sector  Council District  \n",
       "0   78704.0      Henry               9.0  \n",
       "1   78702.0    Charlie               1.0  \n",
       "2   78757.0        Ida               7.0  \n",
       "3   78723.0        Ida               1.0  \n",
       "4   78750.0       Adam               6.0  "
      ]
     },
     "metadata": {},
     "output_type": "display_data"
    }
   ],
   "source": [
    "# 1. Visualizar as primeiras linhas do DataFrame\n",
    "print(\"Amostra dos dados:\")\n",
    "display(df.head())"
   ]
  },
  {
   "cell_type": "code",
   "execution_count": 4,
   "id": "9226d291",
   "metadata": {},
   "outputs": [
    {
     "name": "stdout",
     "output_type": "stream",
     "text": [
      "\n",
      "Informações do DataFrame:\n",
      "<class 'pandas.core.frame.DataFrame'>\n",
      "RangeIndex: 266 entries, 0 to 265\n",
      "Data columns (total 15 columns):\n",
      " #   Column                        Non-Null Count  Dtype  \n",
      "---  ------                        --------------  -----  \n",
      " 0   Month                         266 non-null    object \n",
      " 1   Incident Number               266 non-null    object \n",
      " 2   Date of Incident              266 non-null    object \n",
      " 3   Day of Week                   266 non-null    object \n",
      " 4   Number of Victims under 18    266 non-null    object \n",
      " 5   Number of Victims over 18     266 non-null    object \n",
      " 6   Number of Offenders under 18  266 non-null    object \n",
      " 7   Number of Offenders over 18   264 non-null    object \n",
      " 8   Race/Ethnicity of Offenders   266 non-null    object \n",
      " 9   Offense(s)                    266 non-null    object \n",
      " 10  Offense Location              266 non-null    object \n",
      " 11  Bias                          266 non-null    object \n",
      " 12  Zip Code                      265 non-null    float64\n",
      " 13  APD Sector                    265 non-null    object \n",
      " 14  Council District              265 non-null    float64\n",
      "dtypes: float64(2), object(13)\n",
      "memory usage: 31.3+ KB\n"
     ]
    }
   ],
   "source": [
    "\n",
    "# 2. Obter informações sobre as colunas, tipos de dados e valores nulos\n",
    "print(\"\\nInformações do DataFrame:\")\n",
    "df.info()"
   ]
  },
  {
   "cell_type": "code",
   "execution_count": 5,
   "id": "035922ea",
   "metadata": {},
   "outputs": [
    {
     "name": "stdout",
     "output_type": "stream",
     "text": [
      "\n",
      "Estatísticas Descritivas:\n"
     ]
    },
    {
     "data": {
      "text/html": [
       "<div>\n",
       "<style scoped>\n",
       "    .dataframe tbody tr th:only-of-type {\n",
       "        vertical-align: middle;\n",
       "    }\n",
       "\n",
       "    .dataframe tbody tr th {\n",
       "        vertical-align: top;\n",
       "    }\n",
       "\n",
       "    .dataframe thead th {\n",
       "        text-align: right;\n",
       "    }\n",
       "</style>\n",
       "<table border=\"1\" class=\"dataframe\">\n",
       "  <thead>\n",
       "    <tr style=\"text-align: right;\">\n",
       "      <th></th>\n",
       "      <th>Zip Code</th>\n",
       "      <th>Council District</th>\n",
       "    </tr>\n",
       "  </thead>\n",
       "  <tbody>\n",
       "    <tr>\n",
       "      <th>count</th>\n",
       "      <td>265.000000</td>\n",
       "      <td>265.000000</td>\n",
       "    </tr>\n",
       "    <tr>\n",
       "      <th>mean</th>\n",
       "      <td>78727.664151</td>\n",
       "      <td>6.018868</td>\n",
       "    </tr>\n",
       "    <tr>\n",
       "      <th>std</th>\n",
       "      <td>25.630024</td>\n",
       "      <td>3.021956</td>\n",
       "    </tr>\n",
       "    <tr>\n",
       "      <th>min</th>\n",
       "      <td>78613.000000</td>\n",
       "      <td>1.000000</td>\n",
       "    </tr>\n",
       "    <tr>\n",
       "      <th>25%</th>\n",
       "      <td>78704.000000</td>\n",
       "      <td>3.000000</td>\n",
       "    </tr>\n",
       "    <tr>\n",
       "      <th>50%</th>\n",
       "      <td>78731.000000</td>\n",
       "      <td>7.000000</td>\n",
       "    </tr>\n",
       "    <tr>\n",
       "      <th>75%</th>\n",
       "      <td>78750.000000</td>\n",
       "      <td>9.000000</td>\n",
       "    </tr>\n",
       "    <tr>\n",
       "      <th>max</th>\n",
       "      <td>78759.000000</td>\n",
       "      <td>10.000000</td>\n",
       "    </tr>\n",
       "  </tbody>\n",
       "</table>\n",
       "</div>"
      ],
      "text/plain": [
       "           Zip Code  Council District\n",
       "count    265.000000        265.000000\n",
       "mean   78727.664151          6.018868\n",
       "std       25.630024          3.021956\n",
       "min    78613.000000          1.000000\n",
       "25%    78704.000000          3.000000\n",
       "50%    78731.000000          7.000000\n",
       "75%    78750.000000          9.000000\n",
       "max    78759.000000         10.000000"
      ]
     },
     "metadata": {},
     "output_type": "display_data"
    }
   ],
   "source": [
    "\n",
    "# 3. Gerar estatísticas descritivas para as colunas numéricas\n",
    "print(\"\\nEstatísticas Descritivas:\")\n",
    "display(df.describe())"
   ]
  },
  {
   "cell_type": "code",
   "execution_count": 6,
   "id": "9ced4d96",
   "metadata": {},
   "outputs": [
    {
     "name": "stdout",
     "output_type": "stream",
     "text": [
      "\n",
      "Contagem de valores nulos por coluna:\n",
      "Month                           0\n",
      "Incident Number                 0\n",
      "Date of Incident                0\n",
      "Day of Week                     0\n",
      "Number of Victims under 18      0\n",
      "Number of Victims over 18       0\n",
      "Number of Offenders under 18    0\n",
      "Number of Offenders over 18     2\n",
      "Race/Ethnicity of Offenders     0\n",
      "Offense(s)                      0\n",
      "Offense Location                0\n",
      "Bias                            0\n",
      "Zip Code                        1\n",
      "APD Sector                      1\n",
      "Council District                1\n",
      "dtype: int64\n"
     ]
    }
   ],
   "source": [
    "# 4. Verificar a contagem de valores nulos em cada coluna\n",
    "print(\"\\nContagem de valores nulos por coluna:\")\n",
    "print(df.isnull().sum())"
   ]
  },
  {
   "cell_type": "code",
   "execution_count": 7,
   "id": "4cebe877",
   "metadata": {},
   "outputs": [
    {
     "name": "stdout",
     "output_type": "stream",
     "text": [
      "\n",
      "Nomes das colunas:\n",
      "Index(['Month', 'Incident Number', 'Date of Incident', 'Day of Week',\n",
      "       'Number of Victims under 18', 'Number of Victims over 18',\n",
      "       'Number of Offenders under 18', 'Number of Offenders over 18',\n",
      "       'Race/Ethnicity of Offenders', 'Offense(s)', 'Offense Location', 'Bias',\n",
      "       'Zip Code', 'APD Sector', 'Council District'],\n",
      "      dtype='object')\n"
     ]
    }
   ],
   "source": [
    "# 5. Listar os nomes das colunas para facilitar a referência\n",
    "print(\"\\nNomes das colunas:\")\n",
    "print(df.columns)"
   ]
  },
  {
   "cell_type": "markdown",
   "id": "fb950e7d",
   "metadata": {},
   "source": []
  },
  {
   "cell_type": "code",
   "execution_count": null,
   "id": "283bbfe3",
   "metadata": {},
   "outputs": [],
   "source": []
  },
  {
   "cell_type": "code",
   "execution_count": null,
   "id": "bbd1dce3",
   "metadata": {},
   "outputs": [],
   "source": []
  },
  {
   "cell_type": "code",
   "execution_count": null,
   "id": "8850f300",
   "metadata": {},
   "outputs": [],
   "source": []
  }
 ],
 "metadata": {
  "kernelspec": {
   "display_name": "venv",
   "language": "python",
   "name": "python3"
  },
  "language_info": {
   "codemirror_mode": {
    "name": "ipython",
    "version": 3
   },
   "file_extension": ".py",
   "mimetype": "text/x-python",
   "name": "python",
   "nbconvert_exporter": "python",
   "pygments_lexer": "ipython3",
   "version": "3.13.7"
  }
 },
 "nbformat": 4,
 "nbformat_minor": 5
}
